{
 "cells": [
  {
   "cell_type": "code",
   "execution_count": 1,
   "metadata": {
    "collapsed": true
   },
   "outputs": [],
   "source": [
    "import pystan\n",
    "import matplotlib.pyplot as plt"
   ]
  },
  {
   "cell_type": "code",
   "execution_count": 2,
   "metadata": {
    "collapsed": true
   },
   "outputs": [],
   "source": [
    "model_string = \"\"\"\n",
    "data {\n",
    "  int n;\n",
    "  int y[n];\n",
    "}\n",
    "parameters {\n",
    "  real<lower=0, upper=1> theta;\n",
    "}\n",
    "model {\n",
    "  y ~ bernoulli(theta);\n",
    "}\n",
    "\"\"\""
   ]
  },
  {
   "cell_type": "code",
   "execution_count": 3,
   "metadata": {
    "collapsed": false
   },
   "outputs": [
    {
     "data": {
      "text/plain": [
       "{'n': 10, 'y': [1, 1, 1, 0, 0, 0, 0, 0, 0, 0]}"
      ]
     },
     "execution_count": 3,
     "metadata": {},
     "output_type": "execute_result"
    }
   ],
   "source": [
    "y = [1, 1, 1, 0, 0, 0, 0, 0, 0, 0]\n",
    "data_list = {'y' : y, 'n' : len(y)}\n",
    "data_list"
   ]
  },
  {
   "cell_type": "code",
   "execution_count": 4,
   "metadata": {
    "collapsed": true
   },
   "outputs": [],
   "source": [
    "# Compiling and producing posterior samples from the model.\n",
    "stan_samples = pystan.stan(model_code = model_string, data = data_list)"
   ]
  },
  {
   "cell_type": "code",
   "execution_count": 5,
   "metadata": {
    "collapsed": false
   },
   "outputs": [
    {
     "name": "stdout",
     "output_type": "stream",
     "text": [
      "Inference for Stan model: anon_model_f6f19f2978447ffaf66a6d87ed7010fd.\n",
      "4 chains, each with iter=2000; warmup=1000; thin=1; \n",
      "post-warmup draws per chain=1000, total post-warmup draws=4000.\n",
      "\n",
      "        mean se_mean     sd   2.5%    25%    50%    75%  97.5%  n_eff   Rhat\n",
      "theta   0.34  2.5e-3   0.13   0.11   0.24   0.32   0.42   0.61 2857.0    1.0\n",
      "lp__   -8.16    0.02   0.74 -10.18  -8.33  -7.88  -7.69  -7.64 1504.0    1.0\n",
      "\n",
      "Samples were drawn using NUTS at Sat Feb 24 22:25:44 2018.\n",
      "For each parameter, n_eff is a crude measure of effective sample size,\n",
      "and Rhat is the potential scale reduction factor on split chains (at \n",
      "convergence, Rhat=1).\n"
     ]
    },
    {
     "data": {
      "text/plain": [
       "<matplotlib.figure.Figure at 0x11b63b310>"
      ]
     },
     "execution_count": 5,
     "metadata": {},
     "output_type": "execute_result"
    }
   ],
   "source": [
    "# Plotting and summarizing the posterior distribution\n",
    "print(stan_samples)\n",
    "stan_samples.plot()"
   ]
  },
  {
   "cell_type": "code",
   "execution_count": 6,
   "metadata": {
    "collapsed": false
   },
   "outputs": [],
   "source": [
    "## estimate the bias of coin toss using pystan\n",
    "\n",
    "coin_toss = \"\"\"\n",
    "data {\n",
    "    int<lower=0> n; // number of tosses\n",
    "    int<lower=0> y; // number of heads\n",
    "}\n",
    "transformed data {}\n",
    "parameters {\n",
    "    real<lower=0, upper=1> p; // probability of head\n",
    "}\n",
    "transformed parameters {}\n",
    "model {\n",
    "    p ~ beta(2, 2); // prior\n",
    "    y ~ binomial(n, p);\n",
    "}\n",
    "generated quantities {}\n",
    "\"\"\"\n",
    "\n"
   ]
  },
  {
   "cell_type": "code",
   "execution_count": 7,
   "metadata": {
    "collapsed": true
   },
   "outputs": [],
   "source": [
    "coin_dat = {\n",
    "             'n': 100,\n",
    "             'y': 71,\n",
    "            }\n",
    "\n",
    "# Compiling and producing posterior samples from the model.\n",
    "stan_samples = pystan.stan(model_code = coin_toss, data = coin_dat)\n",
    "\n"
   ]
  },
  {
   "cell_type": "code",
   "execution_count": 8,
   "metadata": {
    "collapsed": true
   },
   "outputs": [],
   "source": [
    "%matplotlib inline\n",
    "%precision 4\n",
    "plt.style.use('ggplot')"
   ]
  },
  {
   "cell_type": "code",
   "execution_count": 9,
   "metadata": {
    "collapsed": false
   },
   "outputs": [
    {
     "name": "stdout",
     "output_type": "stream",
     "text": [
      "Inference for Stan model: anon_model_ddcd1ea0b344dee001740be231f3134a.\n",
      "4 chains, each with iter=2000; warmup=1000; thin=1; \n",
      "post-warmup draws per chain=1000, total post-warmup draws=4000.\n",
      "\n",
      "       mean se_mean     sd   2.5%    25%    50%    75%  97.5%  n_eff   Rhat\n",
      "p       0.7  9.2e-4   0.05   0.61   0.67    0.7   0.73   0.79 2443.0    1.0\n",
      "lp__ -63.88    0.02   0.76 -66.04 -64.06 -63.59 -63.41 -63.36 2321.0    1.0\n",
      "\n",
      "Samples were drawn using NUTS at Sat Feb 24 22:26:10 2018.\n",
      "For each parameter, n_eff is a crude measure of effective sample size,\n",
      "and Rhat is the potential scale reduction factor on split chains (at \n",
      "convergence, Rhat=1).\n"
     ]
    },
    {
     "data": {
      "image/png": "[encoded data removed]",
      "text/plain": [
       "<matplotlib.figure.Figure at 0x1238dbd10>"
      ]
     },
     "metadata": {},
     "output_type": "display_data"
    }
   ],
   "source": [
    "print(stan_samples)\n",
    "coin_dict = stan_samples.extract()\n",
    "coin_dict.keys()\n",
    "stan_samples.plot('p');\n",
    "plt.tight_layout()"
   ]
  }
 ],
 "metadata": {
  "kernelspec": {
   "display_name": "Python 2",
   "language": "python",
   "name": "python2"
  },
  "language_info": {
   "codemirror_mode": {
    "name": "ipython",
    "version": 2
   },
   "file_extension": ".py",
   "mimetype": "text/x-python",
   "name": "python",
   "nbconvert_exporter": "python",
   "pygments_lexer": "ipython2",
   "version": "2.7.13"
  }
 },
 "nbformat": 4,
 "nbformat_minor": 2
}
